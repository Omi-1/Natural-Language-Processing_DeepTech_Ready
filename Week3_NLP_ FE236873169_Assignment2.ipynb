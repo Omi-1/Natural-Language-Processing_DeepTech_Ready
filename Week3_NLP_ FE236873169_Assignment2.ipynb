{
  "cells": [
    {
      "cell_type": "markdown",
      "source": [
        "# Week 3: NLP Transformer Architecture"
      ],
      "metadata": {
        "id": "VPFJ3hDhnITc"
      },
      "id": "VPFJ3hDhnITc"
    },
    {
      "cell_type": "markdown",
      "id": "b4f52937-e719-47ab-adea-baa41a87b6e4",
      "metadata": {
        "id": "b4f52937-e719-47ab-adea-baa41a87b6e4"
      },
      "source": [
        "\n",
        "Applied Learning Assignments 2:\n",
        "Apply transformers to real-world machine translation and explore\n",
        "fine-tuning for improved performance.\n",
        "1. Use the MarianMT model to translate English sentences into\n",
        "another language of your choice (e.g., French, Spanish, or Arabic).\n",
        "2. Fine-tune the model using domain-specific text (e.g., medical,\n",
        "business, or legal vocabulary).\n",
        "3. Evaluate the translations before and after fine-tuning. Highlight\n",
        "improvements in handling terminology and context."
      ]
    },
    {
      "cell_type": "markdown",
      "id": "9c11a4a0-fe6a-4c32-a2fe-348280fbf676",
      "metadata": {
        "id": "9c11a4a0-fe6a-4c32-a2fe-348280fbf676"
      },
      "source": [
        "## 1. Import Libraries and Setup"
      ]
    },
    {
      "cell_type": "code",
      "execution_count": null,
      "id": "d5e88b82-9a17-4f25-8e7a-a8c0b6aed4e0",
      "metadata": {
        "id": "d5e88b82-9a17-4f25-8e7a-a8c0b6aed4e0"
      },
      "outputs": [],
      "source": [
        "import pandas as pd\n",
        "import warnings\n",
        "import logging\n",
        "from datasets import Dataset, DatasetDict\n",
        "from transformers import MarianTokenizer, MarianMTModel, DataCollatorForSeq2Seq, Seq2SeqTrainer, Seq2SeqTrainingArguments\n",
        "from sklearn.metrics import accuracy_score, precision_recall_fscore_support\n",
        "import torch\n",
        "from sacrebleu import corpus_bleu\n",
        "\n",
        "# Suppress specific warning related to 'Trainer.tokenizer'\n",
        "logging.getLogger(\"transformers\").setLevel(logging.ERROR)\n",
        "\n",
        "# Install necessary libraries\n",
        "# Run this in your terminal in the virtual environment:\n",
        "# pip install datasets transformers scikit-learn sacremoses sacrebleu"
      ]
    },
    {
      "cell_type": "markdown",
      "id": "0aaa7e1f-1a28-44d8-908d-df9c6d97edb3",
      "metadata": {
        "id": "0aaa7e1f-1a28-44d8-908d-df9c6d97edb3"
      },
      "source": [
        "## 2. Load the Dataset"
      ]
    },
    {
      "cell_type": "code",
      "execution_count": null,
      "id": "b978254c-8249-4288-827c-207aff81fe9f",
      "metadata": {
        "id": "b978254c-8249-4288-827c-207aff81fe9f"
      },
      "outputs": [],
      "source": [
        "# Load the dataset from Google Drive (change path to a local file on your PC)\n",
        "file_path = \"english_french.csv\"  # Update to your file path\n",
        "data = pd.read_csv(file_path)\n",
        "data = data.dropna()  # Remove any null entries\n",
        "\n",
        "# Use only 1% of the data for this example\n",
        "sampled_data = data.sample(frac=0.01, random_state=42)"
      ]
    },
    {
      "cell_type": "markdown",
      "id": "692bf354-84d0-4a72-a138-516a579e4b29",
      "metadata": {
        "id": "692bf354-84d0-4a72-a138-516a579e4b29"
      },
      "source": [
        "## 3. Prepare Training and Evaluation Data"
      ]
    },
    {
      "cell_type": "code",
      "execution_count": null,
      "id": "20e12030-2ce7-4f95-8e64-666fb142c7e8",
      "metadata": {
        "id": "20e12030-2ce7-4f95-8e64-666fb142c7e8"
      },
      "outputs": [],
      "source": [
        "# Split into 80% training and 20% evaluation\n",
        "train_size = int(0.8 * len(sampled_data))\n",
        "train_data = sampled_data[:train_size]\n",
        "eval_data = sampled_data[train_size:]\n",
        "\n",
        "# Create Dataset objects for Hugging Face\n",
        "train_dict = {\"English\": train_data[\"English\"].tolist(), \"French\": train_data[\"French\"].tolist()}\n",
        "eval_dict = {\"English\": eval_data[\"English\"].tolist(), \"French\": eval_data[\"French\"].tolist()}\n",
        "datasets = DatasetDict({\n",
        "    \"train\": Dataset.from_dict(train_dict),\n",
        "    \"eval\": Dataset.from_dict(eval_dict)\n",
        "})"
      ]
    },
    {
      "cell_type": "markdown",
      "id": "01d378c3-dd82-4767-b392-02ac343557f6",
      "metadata": {
        "id": "01d378c3-dd82-4767-b392-02ac343557f6"
      },
      "source": [
        "## 4. Load the Translation Model and Tokenizer"
      ]
    },
    {
      "cell_type": "code",
      "execution_count": null,
      "id": "8564d16b-83eb-407c-8094-73623591d697",
      "metadata": {
        "id": "8564d16b-83eb-407c-8094-73623591d697",
        "outputId": "59ac2771-e1bb-4f28-dae0-1473ca9482c2"
      },
      "outputs": [
        {
          "data": {
            "text/plain": [
              "MarianMTModel(\n",
              "  (model): MarianModel(\n",
              "    (shared): Embedding(59514, 512, padding_idx=59513)\n",
              "    (encoder): MarianEncoder(\n",
              "      (embed_tokens): Embedding(59514, 512, padding_idx=59513)\n",
              "      (embed_positions): MarianSinusoidalPositionalEmbedding(512, 512)\n",
              "      (layers): ModuleList(\n",
              "        (0-5): 6 x MarianEncoderLayer(\n",
              "          (self_attn): MarianAttention(\n",
              "            (k_proj): Linear(in_features=512, out_features=512, bias=True)\n",
              "            (v_proj): Linear(in_features=512, out_features=512, bias=True)\n",
              "            (q_proj): Linear(in_features=512, out_features=512, bias=True)\n",
              "            (out_proj): Linear(in_features=512, out_features=512, bias=True)\n",
              "          )\n",
              "          (self_attn_layer_norm): LayerNorm((512,), eps=1e-05, elementwise_affine=True)\n",
              "          (activation_fn): SiLU()\n",
              "          (fc1): Linear(in_features=512, out_features=2048, bias=True)\n",
              "          (fc2): Linear(in_features=2048, out_features=512, bias=True)\n",
              "          (final_layer_norm): LayerNorm((512,), eps=1e-05, elementwise_affine=True)\n",
              "        )\n",
              "      )\n",
              "    )\n",
              "    (decoder): MarianDecoder(\n",
              "      (embed_tokens): Embedding(59514, 512, padding_idx=59513)\n",
              "      (embed_positions): MarianSinusoidalPositionalEmbedding(512, 512)\n",
              "      (layers): ModuleList(\n",
              "        (0-5): 6 x MarianDecoderLayer(\n",
              "          (self_attn): MarianAttention(\n",
              "            (k_proj): Linear(in_features=512, out_features=512, bias=True)\n",
              "            (v_proj): Linear(in_features=512, out_features=512, bias=True)\n",
              "            (q_proj): Linear(in_features=512, out_features=512, bias=True)\n",
              "            (out_proj): Linear(in_features=512, out_features=512, bias=True)\n",
              "          )\n",
              "          (activation_fn): SiLU()\n",
              "          (self_attn_layer_norm): LayerNorm((512,), eps=1e-05, elementwise_affine=True)\n",
              "          (encoder_attn): MarianAttention(\n",
              "            (k_proj): Linear(in_features=512, out_features=512, bias=True)\n",
              "            (v_proj): Linear(in_features=512, out_features=512, bias=True)\n",
              "            (q_proj): Linear(in_features=512, out_features=512, bias=True)\n",
              "            (out_proj): Linear(in_features=512, out_features=512, bias=True)\n",
              "          )\n",
              "          (encoder_attn_layer_norm): LayerNorm((512,), eps=1e-05, elementwise_affine=True)\n",
              "          (fc1): Linear(in_features=512, out_features=2048, bias=True)\n",
              "          (fc2): Linear(in_features=2048, out_features=512, bias=True)\n",
              "          (final_layer_norm): LayerNorm((512,), eps=1e-05, elementwise_affine=True)\n",
              "        )\n",
              "      )\n",
              "    )\n",
              "  )\n",
              "  (lm_head): Linear(in_features=512, out_features=59514, bias=False)\n",
              ")"
            ]
          },
          "execution_count": 14,
          "metadata": {},
          "output_type": "execute_result"
        }
      ],
      "source": [
        "# Load the MarianMT model and tokenizer\n",
        "model_name = \"Helsinki-NLP/opus-mt-en-fr\"\n",
        "tokenizer = MarianTokenizer.from_pretrained(model_name)\n",
        "model = MarianMTModel.from_pretrained(model_name)\n",
        "\n",
        "# Use CPU only\n",
        "device = torch.device('cpu')  # Force CPU usage\n",
        "model.to(device)  # Move model to CPU"
      ]
    },
    {
      "cell_type": "markdown",
      "id": "aa200332-1520-4a5a-b248-5382c7f81d23",
      "metadata": {
        "id": "aa200332-1520-4a5a-b248-5382c7f81d23"
      },
      "source": [
        "## 5. Tokenize the Dataset"
      ]
    },
    {
      "cell_type": "code",
      "execution_count": null,
      "id": "92076426-749f-44fd-aced-e6b0cf7758f0",
      "metadata": {
        "id": "92076426-749f-44fd-aced-e6b0cf7758f0",
        "outputId": "2134562f-1792-46e9-bf68-9be9450a24d5"
      },
      "outputs": [
        {
          "name": "stderr",
          "output_type": "stream",
          "text": [
            "                                                                 \r"
          ]
        }
      ],
      "source": [
        "# Tokenize data\n",
        "def tokenize_function(examples):\n",
        "    return tokenizer(examples[\"English\"], text_target=examples[\"French\"], padding=True, truncation=True)\n",
        "\n",
        "# Map tokenization over dataset\n",
        "tokenized_datasets = datasets.map(tokenize_function, batched=True)"
      ]
    },
    {
      "cell_type": "markdown",
      "id": "7218ebac-0f7b-49e7-8ecf-142f7e40f6da",
      "metadata": {
        "id": "7218ebac-0f7b-49e7-8ecf-142f7e40f6da"
      },
      "source": [
        "## 6. Configure Training Settings"
      ]
    },
    {
      "cell_type": "code",
      "execution_count": null,
      "id": "0581c0dc-00a6-42e4-8c34-79b9231c6eac",
      "metadata": {
        "id": "0581c0dc-00a6-42e4-8c34-79b9231c6eac",
        "outputId": "ea2e1302-7420-4a81-c676-625300138c55"
      },
      "outputs": [
        {
          "name": "stderr",
          "output_type": "stream",
          "text": [
            "C:\\anaconda3\\envs\\pytorch_env\\lib\\site-packages\\transformers\\training_args.py:1545: FutureWarning: `evaluation_strategy` is deprecated and will be removed in version 4.46 of 🤗 Transformers. Use `eval_strategy` instead\n",
            "  warnings.warn(\n"
          ]
        }
      ],
      "source": [
        "# Data collator for dynamic padding\n",
        "collator = DataCollatorForSeq2Seq(tokenizer, model=model)\n",
        "\n",
        "# Set training arguments\n",
        "training_args = Seq2SeqTrainingArguments(\n",
        "    output_dir=\"./results\",\n",
        "    per_device_train_batch_size=8,\n",
        "    num_train_epochs=1,\n",
        "    save_total_limit=1,\n",
        "    evaluation_strategy=\"epoch\",\n",
        "    predict_with_generate=True,\n",
        "    logging_dir=\"./logs\",\n",
        "    logging_steps=10,\n",
        "    save_strategy=\"no\",\n",
        "    report_to=\"none\",\n",
        ")\n"
      ]
    },
    {
      "cell_type": "markdown",
      "id": "356bdd96-cb22-4465-a4ed-a34b34d8aa75",
      "metadata": {
        "id": "356bdd96-cb22-4465-a4ed-a34b34d8aa75"
      },
      "source": [
        "## 7. Define Evaluation Metrics"
      ]
    },
    {
      "cell_type": "code",
      "execution_count": null,
      "id": "4601b9bf-0f6a-46de-8f8e-1dd5b1a9d42e",
      "metadata": {
        "id": "4601b9bf-0f6a-46de-8f8e-1dd5b1a9d42e"
      },
      "outputs": [],
      "source": [
        "# Define compute_metrics function for evaluation\n",
        "def compute_metrics(eval_preds):\n",
        "    predictions, labels = eval_preds\n",
        "\n",
        "    # Convert tensors to numpy arrays if necessary\n",
        "    if isinstance(predictions, torch.Tensor):\n",
        "        predictions = predictions.cpu().numpy()\n",
        "    if isinstance(labels, torch.Tensor):\n",
        "        labels = labels.cpu().numpy()\n",
        "\n",
        "    # Decode predictions\n",
        "    decoded_preds = tokenizer.batch_decode(predictions, skip_special_tokens=True)\n",
        "\n",
        "    # Decode labels, handling -100 masking for tokenizers\n",
        "    labels = [[label for label in batch if label != -100] for batch in labels]\n",
        "    decoded_labels = tokenizer.batch_decode(labels, skip_special_tokens=True)\n",
        "\n",
        "    # Compute metrics\n",
        "    precision, recall, f1, _ = precision_recall_fscore_support(\n",
        "        decoded_labels, decoded_preds, average=\"weighted\", zero_division=1\n",
        "    )\n",
        "    acc = accuracy_score(decoded_labels, decoded_preds)\n",
        "\n",
        "    # Calculate BLEU score\n",
        "    bleu = corpus_bleu(decoded_preds, [decoded_labels]).score\n",
        "\n",
        "    return {\"accuracy\": acc, \"f1\": f1, \"precision\": precision, \"recall\": recall, \"bleu\": bleu}\n"
      ]
    },
    {
      "cell_type": "markdown",
      "id": "2dd586fc-d0be-4347-a7f6-b841e2f60582",
      "metadata": {
        "id": "2dd586fc-d0be-4347-a7f6-b841e2f60582"
      },
      "source": [
        "## 8. Initialize Trainer and Train the Model"
      ]
    },
    {
      "cell_type": "code",
      "execution_count": null,
      "id": "f5523d27-a5f5-4f70-9cc1-f87967a5a475",
      "metadata": {
        "id": "f5523d27-a5f5-4f70-9cc1-f87967a5a475",
        "outputId": "3da4ec95-18dc-45a4-9def-d7e328b6e0a5"
      },
      "outputs": [
        {
          "name": "stdout",
          "output_type": "stream",
          "text": [
            "{'loss': 1.3233, 'grad_norm': 4.788868427276611, 'learning_rate': 4.782608695652174e-05, 'epoch': 0.043478260869565216}\n",
            "{'loss': 0.1844, 'grad_norm': 1.119953989982605, 'learning_rate': 4.565217391304348e-05, 'epoch': 0.08695652173913043}\n",
            "{'loss': 0.1815, 'grad_norm': 3.042304515838623, 'learning_rate': 4.347826086956522e-05, 'epoch': 0.13043478260869565}\n",
            "{'loss': 0.2033, 'grad_norm': 1.426414132118225, 'learning_rate': 4.130434782608696e-05, 'epoch': 0.17391304347826086}\n",
            "{'loss': 0.196, 'grad_norm': 1.8878957033157349, 'learning_rate': 3.91304347826087e-05, 'epoch': 0.21739130434782608}\n",
            "{'loss': 0.1707, 'grad_norm': 1.6308921575546265, 'learning_rate': 3.695652173913043e-05, 'epoch': 0.2608695652173913}\n",
            "{'loss': 0.1605, 'grad_norm': 1.6243313550949097, 'learning_rate': 3.478260869565218e-05, 'epoch': 0.30434782608695654}\n",
            "{'loss': 0.1331, 'grad_norm': 1.640490174293518, 'learning_rate': 3.260869565217392e-05, 'epoch': 0.34782608695652173}\n",
            "{'loss': 0.1661, 'grad_norm': 1.800739049911499, 'learning_rate': 3.0434782608695656e-05, 'epoch': 0.391304347826087}\n",
            "{'loss': 0.1319, 'grad_norm': 1.2405682802200317, 'learning_rate': 2.826086956521739e-05, 'epoch': 0.43478260869565216}\n",
            "{'loss': 0.1619, 'grad_norm': 1.1786829233169556, 'learning_rate': 2.608695652173913e-05, 'epoch': 0.4782608695652174}\n",
            "{'loss': 0.1626, 'grad_norm': 2.2887637615203857, 'learning_rate': 2.391304347826087e-05, 'epoch': 0.5217391304347826}\n",
            "{'loss': 0.1823, 'grad_norm': 2.1904685497283936, 'learning_rate': 2.173913043478261e-05, 'epoch': 0.5652173913043478}\n",
            "{'loss': 0.1404, 'grad_norm': 1.288573980331421, 'learning_rate': 1.956521739130435e-05, 'epoch': 0.6086956521739131}\n",
            "{'loss': 0.1511, 'grad_norm': 1.551024317741394, 'learning_rate': 1.739130434782609e-05, 'epoch': 0.6521739130434783}\n",
            "{'loss': 0.15, 'grad_norm': 1.6929367780685425, 'learning_rate': 1.5217391304347828e-05, 'epoch': 0.6956521739130435}\n",
            "{'loss': 0.1732, 'grad_norm': 1.3846150636672974, 'learning_rate': 1.3043478260869566e-05, 'epoch': 0.7391304347826086}\n",
            "{'loss': 0.2079, 'grad_norm': 2.292418956756592, 'learning_rate': 1.0869565217391305e-05, 'epoch': 0.782608695652174}\n",
            "{'loss': 0.1597, 'grad_norm': 2.027923107147217, 'learning_rate': 8.695652173913044e-06, 'epoch': 0.8260869565217391}\n",
            "{'loss': 0.1691, 'grad_norm': 1.2852643728256226, 'learning_rate': 6.521739130434783e-06, 'epoch': 0.8695652173913043}\n",
            "{'loss': 0.1966, 'grad_norm': 1.4886934757232666, 'learning_rate': 4.347826086956522e-06, 'epoch': 0.9130434782608695}\n",
            "{'loss': 0.1587, 'grad_norm': 1.8385595083236694, 'learning_rate': 2.173913043478261e-06, 'epoch': 0.9565217391304348}\n",
            "{'loss': 0.1597, 'grad_norm': 1.7014069557189941, 'learning_rate': 0.0, 'epoch': 1.0}\n",
            "{'eval_loss': 0.19931964576244354, 'eval_accuracy': 0.3217391304347826, 'eval_f1': 0.3217391304347826, 'eval_precision': 1.0, 'eval_recall': 0.3217391304347826, 'eval_bleu': 56.35052131690946, 'eval_runtime': 115.2446, 'eval_samples_per_second': 3.992, 'eval_steps_per_second': 0.503, 'epoch': 1.0}\n",
            "{'train_runtime': 676.2788, 'train_samples_per_second': 2.718, 'train_steps_per_second': 0.34, 'train_loss': 0.21841997892960258, 'epoch': 1.0}\n"
          ]
        },
        {
          "data": {
            "text/plain": [
              "TrainOutput(global_step=230, training_loss=0.21841997892960258, metrics={'train_runtime': 676.2788, 'train_samples_per_second': 2.718, 'train_steps_per_second': 0.34, 'train_loss': 0.21841997892960258, 'epoch': 1.0})"
            ]
          },
          "execution_count": 18,
          "metadata": {},
          "output_type": "execute_result"
        }
      ],
      "source": [
        "# Initialize Trainer\n",
        "trainer = Seq2SeqTrainer(\n",
        "    model=model,\n",
        "    args=training_args,\n",
        "    train_dataset=tokenized_datasets[\"train\"],\n",
        "    eval_dataset=tokenized_datasets[\"eval\"],\n",
        "    data_collator=collator,\n",
        "    tokenizer=tokenizer,\n",
        "    compute_metrics=compute_metrics,\n",
        ")\n",
        "\n",
        "# Train the model\n",
        "trainer.train()"
      ]
    },
    {
      "cell_type": "markdown",
      "id": "171a45c3-c212-4862-a644-d08bc0c3cd85",
      "metadata": {
        "id": "171a45c3-c212-4862-a644-d08bc0c3cd85"
      },
      "source": [
        "## 9. Evaluate the Model"
      ]
    },
    {
      "cell_type": "code",
      "execution_count": null,
      "id": "fea1455c-c2e6-4c61-b55b-2ab0021a475d",
      "metadata": {
        "id": "fea1455c-c2e6-4c61-b55b-2ab0021a475d",
        "outputId": "2af230b6-64cc-4f6a-c4bc-d238e9c3e154"
      },
      "outputs": [
        {
          "name": "stdout",
          "output_type": "stream",
          "text": [
            "{'eval_loss': 0.19931964576244354, 'eval_accuracy': 0.3217391304347826, 'eval_f1': 0.3217391304347826, 'eval_precision': 1.0, 'eval_recall': 0.3217391304347826, 'eval_bleu': 56.35052131690946, 'eval_runtime': 112.0336, 'eval_samples_per_second': 4.106, 'eval_steps_per_second': 0.518, 'epoch': 1.0}\n",
            "Evaluation Results: {'eval_loss': 0.19931964576244354, 'eval_accuracy': 0.3217391304347826, 'eval_f1': 0.3217391304347826, 'eval_precision': 1.0, 'eval_recall': 0.3217391304347826, 'eval_bleu': 56.35052131690946, 'eval_runtime': 112.0336, 'eval_samples_per_second': 4.106, 'eval_steps_per_second': 0.518, 'epoch': 1.0}\n"
          ]
        }
      ],
      "source": [
        "# Evaluate the model and print the results\n",
        "eval_results = trainer.evaluate()\n",
        "print(f\"Evaluation Results: {eval_results}\")"
      ]
    },
    {
      "cell_type": "markdown",
      "id": "84f1aa88-6ab2-4aed-8cb6-939d9903acc1",
      "metadata": {
        "id": "84f1aa88-6ab2-4aed-8cb6-939d9903acc1"
      },
      "source": [
        "## 10. Generate Sample Translations"
      ]
    },
    {
      "cell_type": "code",
      "execution_count": null,
      "id": "5580e382-e293-40fd-b970-09a4dcadd540",
      "metadata": {
        "id": "5580e382-e293-40fd-b970-09a4dcadd540",
        "outputId": "874ae950-44d5-48eb-a01a-6c6c8e3fd6d9"
      },
      "outputs": [
        {
          "name": "stdout",
          "output_type": "stream",
          "text": [
            "Source: Hello, how are you?\n",
            "Translation: Bonjour, comment allez-vous ?\n",
            "\n",
            "Source: I love machine learning.\n",
            "Translation: J'adore l'apprentissage automatique.\n",
            "\n",
            "Source: Let's go to the market.\n",
            "Translation: Allons au marché.\n",
            "\n"
          ]
        }
      ],
      "source": [
        "# Generate sample translations\n",
        "sample_texts = [\"Hello, how are you?\", \"I love machine learning.\", \"Let's go to the market.\"]\n",
        "inputs = tokenizer(sample_texts, return_tensors=\"pt\", padding=True).to(device)\n",
        "translated = model.generate(**inputs)\n",
        "translations = tokenizer.batch_decode(translated, skip_special_tokens=True)\n",
        "\n",
        "# Display translations\n",
        "for i, (src, tgt) in enumerate(zip(sample_texts, translations)):\n",
        "    print(f\"Source: {src}\\nTranslation: {tgt}\\n\")"
      ]
    },
    {
      "cell_type": "code",
      "execution_count": null,
      "id": "ce06039a-3986-41af-8856-6010837aeaf8",
      "metadata": {
        "id": "ce06039a-3986-41af-8856-6010837aeaf8"
      },
      "outputs": [],
      "source": []
    },
    {
      "cell_type": "code",
      "execution_count": null,
      "id": "ef283a71-cbe5-44c5-83a7-aab308d1b50e",
      "metadata": {
        "id": "ef283a71-cbe5-44c5-83a7-aab308d1b50e"
      },
      "outputs": [],
      "source": []
    },
    {
      "cell_type": "code",
      "execution_count": null,
      "id": "555fc0d4-e0cd-4398-92e3-fbd2cce84413",
      "metadata": {
        "id": "555fc0d4-e0cd-4398-92e3-fbd2cce84413"
      },
      "outputs": [],
      "source": []
    }
  ],
  "metadata": {
    "kernelspec": {
      "display_name": "Python 3 (ipykernel)",
      "language": "python",
      "name": "python3"
    },
    "language_info": {
      "codemirror_mode": {
        "name": "ipython",
        "version": 3
      },
      "file_extension": ".py",
      "mimetype": "text/x-python",
      "name": "python",
      "nbconvert_exporter": "python",
      "pygments_lexer": "ipython3",
      "version": "3.8.20"
    },
    "colab": {
      "provenance": []
    }
  },
  "nbformat": 4,
  "nbformat_minor": 5
}